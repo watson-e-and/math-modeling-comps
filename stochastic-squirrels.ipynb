{
 "cells": [
  {
   "cell_type": "markdown",
   "metadata": {},
   "source": [
    "# Stochastic Squirrels\n",
    "\n",
    "An example to introduce stochastic modeling."
   ]
  },
  {
   "cell_type": "code",
   "execution_count": null,
   "metadata": {},
   "outputs": [],
   "source": [
    "import numpy as np\n",
    "import pandas as pd\n",
    "import matplotlib.pyplot as plt"
   ]
  },
  {
   "cell_type": "code",
   "execution_count": null,
   "metadata": {},
   "outputs": [],
   "source": [
    "# Parameters \n",
    "init_squirrels = 100\n",
    "r = 0.5 # growth rate"
   ]
  },
  {
   "cell_type": "code",
   "execution_count": null,
   "metadata": {},
   "outputs": [],
   "source": [
    "num_simulations = 10\n",
    "\n",
    "# Create a table (pandas dataframe) to store the number of squirrels at each time step\n",
    "# Each column is a simulation\n",
    "year_zero = np.ones(num_simulations, dtype=int) * init_squirrels\n",
    "simulations = pd.DataFrame({\"Year 0\": year_zero})\n",
    "\n",
    "# At each time step, the new number of squirrels is \n",
    "# a random number drawn from a binomial distribution \n",
    "# with n = number of squirrels at the previous time step\n",
    "# and p = growth rate\n",
    "\n",
    "# create a random number generator\n",
    "rng = np.random.default_rng()\n",
    "\n",
    "# list of column names, to be able to grab the last column\n",
    "columns = simulations.columns\n",
    "cur_year = 0\n",
    "\n",
    "\n",
    "while simulations[columns[-1]].sum() != 0: # while there are still squirrels in the last column\n",
    "    cur_year += 1\n",
    "\n",
    "    # Draw a random number of squirrels from a binomial distribution for each simulation\n",
    "    simulations[f\"Year {cur_year}\"] = rng.binomial(simulations[columns[-1]], r)\n",
    "    columns = simulations.columns # update the list of column names\n",
    "\n",
    "# Switch the rows and columns so that each column is a simulation\n",
    "simulations = simulations.T\n",
    "simulations"
   ]
  },
  {
   "cell_type": "code",
   "execution_count": null,
   "metadata": {},
   "outputs": [],
   "source": [
    "# Show all the trials on the same plot\n",
    "years = [i for i in range(simulations.index.size)]\n",
    "\n",
    "plt.plot(years, simulations)\n",
    "plt.xlabel(\"Year\")\n",
    "plt.ylabel(\"Number of squirrels\")\n",
    "plt.title(f\"Stochastic squirrel population decline: r={r}\")\n",
    "plt.show()\n",
    "plt.close()"
   ]
  },
  {
   "cell_type": "code",
   "execution_count": null,
   "metadata": {},
   "outputs": [],
   "source": [
    "# Emphasize the variability at each year\n",
    "for year in years:\n",
    "    plt.scatter(np.ones(num_simulations) * year, simulations.T[f\"Year {year}\"], alpha=0.5, s=30)"
   ]
  },
  {
   "cell_type": "markdown",
   "metadata": {},
   "source": [
    "### Variance decreases with the number of simulations\n",
    "\n",
    "This section demonstrates how more simulations gives more predictable summary statistics."
   ]
  },
  {
   "cell_type": "code",
   "execution_count": null,
   "metadata": {},
   "outputs": [],
   "source": [
    "# Same code as above\n",
    "num_simulations = 10000\n",
    "\n",
    "# Create a table (pandas dataframe) to store the number of squirrels at each time step\n",
    "# Each column is a simulation\n",
    "year_zero = np.ones(num_simulations, dtype=int) * init_squirrels\n",
    "simulations = pd.DataFrame({\"Year 0\": year_zero})\n",
    "\n",
    "# At each time step, the new number of squirrels is \n",
    "# a random number drawn from a binomial distribution \n",
    "# with n = number of squirrels at the previous time step\n",
    "# and p = growth rate\n",
    "\n",
    "# create a random number generator\n",
    "rng = np.random.default_rng()\n",
    "\n",
    "# list of column names, to be able to grab the last column\n",
    "columns = simulations.columns\n",
    "cur_year = 0\n",
    "\n",
    "\n",
    "while simulations[columns[-1]].sum() != 0: # while there are still squirrels in the last column\n",
    "    cur_year += 1\n",
    "\n",
    "    # Draw a random number of squirrels from a binomial distribution for each simulation\n",
    "    simulations[f\"Year {cur_year}\"] = rng.binomial(simulations[columns[-1]], r)\n",
    "    columns = simulations.columns # update the list of column names\n",
    "\n",
    "# Switch the rows and columns so that each column is a simulation\n",
    "simulations = simulations.T\n",
    "simulations.head(11)"
   ]
  },
  {
   "cell_type": "markdown",
   "metadata": {},
   "source": [
    "Hit \"Run all\" repeatly. You will notice that there is a lot of variation in the mean from 10 simulations, but \n",
    "the mean from 10000 simulations is very consistent."
   ]
  },
  {
   "cell_type": "code",
   "execution_count": null,
   "metadata": {},
   "outputs": [],
   "source": [
    "focus_year = 2\n",
    "\n",
    "max_value = simulations.T[f\"Year {focus_year}\"].max()\n",
    "min_value = simulations.T[f\"Year {focus_year}\"].min()\n",
    "bins_for_hist = range(min_value, max_value+1, 1)\n",
    "\n",
    "# Show the distribution of the number of squirrels at the focus year\n",
    "plt.hist(simulations.T[f\"Year {focus_year}\"].iloc[:10000], bins=bins_for_hist, density=True, alpha=0.5, \n",
    "         label=f\"10000 simulations: mean={simulations.T[f'Year {focus_year}'].mean():.2f}, std={simulations.T[f'Year {focus_year}'].std():.2f}\")\n",
    "plt.hist(simulations.T[f\"Year {focus_year}\"].iloc[:500], bins=bins_for_hist, density=True, alpha=0.5, \n",
    "         label=f\"500 simulations: mean={simulations.T[f'Year {focus_year}'].iloc[:500].mean():.2f}, std={simulations.T[f'Year {focus_year}'].iloc[:500].std():.2f}\")\n",
    "plt.hist(simulations.T[f\"Year {focus_year}\"].iloc[:10], bins=bins_for_hist, density=True, alpha=0.5, \n",
    "         label=f\"10 simulations: mean={simulations.T[f'Year {focus_year}'].iloc[:10].mean():.2f}, std={simulations.T[f'Year {focus_year}'].iloc[:10].std():.2f}\")\n",
    "\n",
    "plt.ylim(0, 0.4)\n",
    "\n",
    "plt.title(f\"Distribution of the number of squirrels at year {focus_year}\")\n",
    "plt.xlabel(\"Number of squirrels\")\n",
    "plt.ylabel(\"Frequency\")\n",
    "plt.legend()\n",
    "plt.show()\n",
    "plt.close()"
   ]
  },
  {
   "cell_type": "code",
   "execution_count": null,
   "metadata": {},
   "outputs": [],
   "source": []
  }
 ],
 "metadata": {
  "kernelspec": {
   "display_name": "math",
   "language": "python",
   "name": "python3"
  },
  "language_info": {
   "codemirror_mode": {
    "name": "ipython",
    "version": 3
   },
   "file_extension": ".py",
   "mimetype": "text/x-python",
   "name": "python",
   "nbconvert_exporter": "python",
   "pygments_lexer": "ipython3",
   "version": "3.11.5"
  }
 },
 "nbformat": 4,
 "nbformat_minor": 2
}
